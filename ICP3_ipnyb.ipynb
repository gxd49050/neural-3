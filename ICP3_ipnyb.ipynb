{
  "nbformat": 4,
  "nbformat_minor": 0,
  "metadata": {
    "colab": {
      "provenance": []
    },
    "kernelspec": {
      "name": "python3",
      "display_name": "Python 3"
    },
    "language_info": {
      "name": "python"
    }
  },
  "cells": [
    {
      "cell_type": "code",
      "execution_count": 1,
      "metadata": {
        "id": "TIaPoz_nlkWA",
        "colab": {
          "base_uri": "https://localhost:8080/"
        },
        "outputId": "f987f80d-afa8-45b7-b623-5d5115d78b32"
      },
      "outputs": [
        {
          "output_type": "stream",
          "name": "stdout",
          "text": [
            "Random vector of size  20: \n",
            " [ 2.58481544 19.72238768 13.9110957  19.01501862  3.02672526  1.80203033\n",
            " 13.32879332  1.19429777 13.29209105 15.27395143 12.97588385  5.86871662\n",
            " 19.35196209  5.0734041  17.37880586 13.00176082  7.3028859  10.67669637\n",
            " 15.84830229 17.37011009]\n",
            "Reshaping the  array to 4 by 5: \n",
            " [[ 2.58481544 19.72238768 13.9110957  19.01501862  3.02672526]\n",
            " [ 1.80203033 13.32879332  1.19429777 13.29209105 15.27395143]\n",
            " [12.97588385  5.86871662 19.35196209  5.0734041  17.37880586]\n",
            " [13.00176082  7.3028859  10.67669637 15.84830229 17.37011009]]\n",
            "Replacing the  maximum in each row by 0: \n",
            " [[ 2.58481544  0.         13.9110957  19.01501862  3.02672526]\n",
            " [ 1.80203033 13.32879332  1.19429777 13.29209105  0.        ]\n",
            " [12.97588385  5.86871662  0.          5.0734041  17.37880586]\n",
            " [13.00176082  7.3028859  10.67669637 15.84830229  0.        ]]\n"
          ]
        }
      ],
      "source": [
        "import numpy as np\n",
        "\n",
        "a = np.random.uniform(1, 20, 20)  # creating the random vector of size 20 having only float in the range 1-20\n",
        "print('Random vector of size  20: \\n', a)\n",
        "b = a.reshape((4, 5))  # reshaping the array to 4 by 5\n",
        "print('Reshaping the  array to 4 by 5: \\n', b)\n",
        "c = np.where(b == np.amax(b, axis=1).reshape(-1, 1), 0, b)  # replace the max in each row by 0(axis=1)\n",
        "print('Replacing the  maximum in each row by 0: \\n', c)"
      ]
    },
    {
      "cell_type": "code",
      "source": [
        "class Employee:\n",
        "    \"\"\"\n",
        "    Generic Employee class with name, family, salary and department\n",
        "    \"\"\"\n",
        "\n",
        "    # data member to count the number of Employees\n",
        "    no_of_employees = 0\n",
        "\n",
        "    def __init__(self, name, family_name, salary, department):\n",
        "        self.__name = name\n",
        "        self.__family_name = family_name\n",
        "        self.salary = salary\n",
        "        self.__department = department\n",
        "        Employee.no_of_employees += 1\n",
        "\n",
        "    @staticmethod\n",
        "    def average_salary(employees):\n",
        "        \"\"\"\n",
        "        function to average salary\n",
        "        \"\"\"\n",
        "        sum = 0\n",
        "        for employee in employees:\n",
        "            sum += employee.salary\n",
        "        return sum / Employee.no_of_employees\n",
        "\n",
        "\n",
        "class FulltimeEmployee(Employee):\n",
        "    \"\"\"\n",
        "    Full Time Employee is a sub class of Employee\n",
        "    \"\"\"\n",
        "\n",
        "    def __init__(self, name, family_name, salary, department):\n",
        "        super().__init__(name, family_name, salary, department)\n",
        "\n",
        "    def full_time_benefits(self):\n",
        "        print(\"Few benefits as full time employee.\")\n",
        "\n",
        "\n",
        "def main():\n",
        "    employees = []\n",
        "    fte1 = FulltimeEmployee(\"Abhya Ram\", \"Nandamuri\", 45000000, \"Doctor\")\n",
        "    fte1.full_time_benefits()\n",
        "    employees.append(fte1)\n",
        "    fte2 = FulltimeEmployee(\"Van\", \"Jampani\", 6780000, \"HR\")\n",
        "    employees.append(fte2)\n",
        "    emp1 = Employee(\"Bhagi\", \"Palaparthi\", 4560000, \"PHD\")\n",
        "    employees.append(emp1)\n",
        "    emp2 = Employee(\"Geetu\", \"Doddapaneni\", 236000, \"Rnd\")\n",
        "    employees.append(emp2)\n",
        "    print(\"Average salary:\", FulltimeEmployee.average_salary(employees))\n",
        "\n",
        "\n",
        "if __name__ == \"__main__\":\n",
        "    main()"
      ],
      "metadata": {
        "colab": {
          "base_uri": "https://localhost:8080/"
        },
        "id": "e3UYPu9QW3K7",
        "outputId": "2d138336-47ae-40f0-ce44-83815b080d63"
      },
      "execution_count": 22,
      "outputs": [
        {
          "output_type": "stream",
          "name": "stdout",
          "text": [
            "Few benefits as full time employee.\n",
            "Average salary: 14144000.0\n"
          ]
        }
      ]
    }
  ]
}